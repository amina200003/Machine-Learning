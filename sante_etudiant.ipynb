{
 "cells": [
  {
   "cell_type": "markdown",
   "id": "fb084ad5-94a0-4265-abc4-80a925dbcc94",
   "metadata": {},
   "source": [
    "LES IMPORTS"
   ]
  },
  {
   "cell_type": "code",
   "execution_count": 1,
   "id": "e8fc3916",
   "metadata": {
    "scrolled": true
   },
   "outputs": [],
   "source": [
    "\n",
    "import pandas as pan\n",
    "from sklearn.model_selection import train_test_split\n",
    "from sklearn.linear_model import Perceptron \n",
    "from sklearn.metrics import accuracy_score, classification_report,cohen_kappa_score\n",
    "from time import perf_counter as pf\n",
    "import matplotlib.pyplot as plt\n",
    "\n",
    "from sklearn.preprocessing import OneHotEncoder\n",
    "from sklearn.compose import ColumnTransformer\n",
    "import numpy as np\n",
    "\n"
   ]
  },
  {
   "cell_type": "markdown",
   "id": "6974e328-3e14-4cf7-b966-1d4892d5c192",
   "metadata": {},
   "source": [
    "ANALYSE EXPLORATOIRE DES DONNEES"
   ]
  },
  {
   "cell_type": "code",
   "execution_count": 2,
   "id": "4768a451-67dd-4931-8c38-26c0fab814e8",
   "metadata": {},
   "outputs": [],
   "source": [
    "sante_etudiant= pan.read_csv(\"datasets/sante_etudiant/student_health_data.csv\")"
   ]
  },
  {
   "cell_type": "markdown",
   "id": "81eb12d4-97c3-4030-a87e-10a6aa9cd382",
   "metadata": {},
   "source": [
    "DECOUPAGE DES DONNEES EN APPRENTISSAGE ET TEST"
   ]
  },
  {
   "cell_type": "code",
   "execution_count": 3,
   "id": "3318b053",
   "metadata": {},
   "outputs": [],
   "source": [
    "\n",
    "features_names= [\"Student_ID\",\"Age\",\"Heart_Rate\",\"Blood_Pressure_Systolic\",\n",
    "\"Blood_Pressure_Diastolic\",\"Stress_Level_Self_Report\",\"Study_Hours\",\"Project_Hours\"]\n",
    "X_num= sante_etudiant[features_names] \n",
    "y_continu=sante_etudiant[\"Stress_Level_Biosensor\"] \n",
    "\n",
    "\n",
    "#transformation des données textuelle en données num\n",
    "txt= [\"Physical_Activity\",\"Sleep_Quality\",\"Mood\",\"Health_Risk_Level\"]\n",
    "encoder= OneHotEncoder(sparse_output=False) #A VOIR\n",
    "X_encode_txt= encoder.fit_transform(sante_etudiant[txt]) #transformation en numerique\n",
    "\n",
    "X_transform= np.hstack((X_num,X_encode_txt)) #assembler les deux colonnes: colonne txt tranforme et les colonnes numérique\n",
    "\n",
    "#transformation de y en catégorie distincte\n",
    "y= pan.cut(y_continu, bins=[0,4.5,8.5, float(\"inf\")],labels= [\"faible\",\"moyen\",\"élevée\"]) \n",
    "\n",
    "\n",
    "X_train, X_test, y_train, y_test = train_test_split(X_transform, y, test_size=0.3, random_state=0) "
   ]
  },
  {
   "cell_type": "raw",
   "id": "cfda40ea-1c90-4118-b481-0d4c239606a4",
   "metadata": {},
   "source": [
    "ANALYSE DE LA TAILLE DE NOS INTERVALLES "
   ]
  },
  {
   "cell_type": "code",
   "execution_count": 4,
   "id": "74479ea8-c1eb-4089-91ae-68f756716392",
   "metadata": {},
   "outputs": [
    {
     "data": {
      "text/plain": [
       "(-1.1838574621607612,\n",
       " 1.1039932124838459,\n",
       " -1.163178753058419,\n",
       " 1.1030039458000003)"
      ]
     },
     "execution_count": 4,
     "metadata": {},
     "output_type": "execute_result"
    },
    {
     "data": {
      "image/png": "[encoded data removed]",
      "text/plain": [
       "<Figure size 640x480 with 1 Axes>"
      ]
     },
     "metadata": {},
     "output_type": "display_data"
    }
   ],
   "source": [
    "\n",
    "\n",
    "\n",
    "\n",
    "#sante_etudiant.describe()\n",
    "# print(\"________________\")\n",
    "#sante_etudiant.info()\n",
    "\n",
    "\n",
    "#graphique pour visualiser le repartition des niveau de stress dans notre variable cible: Stress Level Biosensor \n",
    "faible= 0\n",
    "moyen= 0\n",
    "eleve= 0\n",
    "valeur=[]\n",
    "pourcentage=[]\n",
    "for elt in y:\n",
    "    if elt == \"faible\":\n",
    "       faible+=1\n",
    "    if elt== \"moyen\":\n",
    "        moyen+=1\n",
    "    if elt== \"élevée\":\n",
    "        eleve+= 1        \n",
    "valeur.extend([369,435,169]) #somme de chaque niveau de stress\n",
    "\n",
    "#calcul de pourcentage pour chaque niveau de stress\n",
    "for val in valeur:\n",
    "    pourcent= (val*100)/sum(valeur)\n",
    "    pourcentage.append(pourcent)\n",
    "#print(pourcentage)\n",
    "\n",
    "label= [\"faible\",\"moyen\",\"élevée\"]\n",
    "color= [\"blue\",\"green\",\"yellow\"]\n",
    "explode= (0,0.1,0)\n",
    "\n",
    "plt.pie(pourcentage, labels= label, colors=color, explode=explode, autopct=\"%1.1f%%\")\n",
    "plt.title(\"répartition des niveaux de stress mesuré par un capteur\")\n",
    "plt.axis(\"equal\")\n",
    "#plt.savefig(\"pie_chartLevelStress\")\n",
    "#plt.show()\n",
    "\n",
    "\n",
    "\n",
    "\n"
   ]
  },
  {
   "cell_type": "markdown",
   "id": "9bd3318b-54fd-4b14-b7f9-8b4c57e83245",
   "metadata": {},
   "source": [
    "TEST DES CLASSIFIEURS"
   ]
  },
  {
   "cell_type": "code",
   "execution_count": 12,
   "id": "280f4884",
   "metadata": {},
   "outputs": [
    {
     "name": "stdout",
     "output_type": "stream",
     "text": [
      "Bonne classification: 161\n",
      "Erreurs: 139\n",
      "\n",
      "Accuracy: 0.54\n",
      "\n",
      "\n",
      "Le temps d'exécution est de :  0.01714369998080656 secondes\n",
      "\n"
     ]
    }
   ],
   "source": [
    "#Perceptron\n",
    "\n",
    "from sklearn.linear_model import Perceptron #  voir cmt ca fonctionne\n",
    "\n",
    "t1 = pf() #temps 1\n",
    "\n",
    "ppn = Perceptron(eta0=0.1, random_state=0)\n",
    "ppn.fit(X_train, y_train)\n",
    "y_pred = ppn.predict(X_test)\n",
    "\n",
    "# On fait la somme de tous les cas où la valeur dans y_test est bien trouvée dans y_pred\n",
    "print('Bonne classification: %d' % (y_test == y_pred).sum())\n",
    "print('Erreurs: %d' % (y_test != y_pred).sum())\n",
    "\n",
    "print ('\\nAccuracy: %.2f\\n' % accuracy_score(y_test, y_pred))\n",
    "\n",
    "t2 = pf() #temps 2\n",
    "\n",
    "print(\"\\nLe temps d'exécution est de : \",t2 - t1,\"secondes\\n\")"
   ]
  },
  {
   "cell_type": "code",
   "execution_count": 13,
   "id": "922eb208",
   "metadata": {},
   "outputs": [
    {
     "name": "stdout",
     "output_type": "stream",
     "text": [
      "Bonne classification: 161\n",
      "Erreurs: 139\n",
      "\n",
      "Accuracy: 0.54\n",
      "\n",
      "\n",
      "Le temps d'exécution est de :  0.5895246999862138 secondes\n",
      "\n"
     ]
    }
   ],
   "source": [
    "# test du classifieur RandomForest\n",
    "\n",
    "from sklearn.ensemble import RandomForestClassifier\n",
    "\n",
    "t1 = pf() #temps 1\n",
    "\n",
    "rf = RandomForestClassifier(random_state=0)\n",
    "rf.fit(X_train, y_train)\n",
    "y_pred_rf = rf.predict(X_test)\n",
    "\n",
    "# On fait la somme de tous les cas où la valeur dans y_test est bien trouvée dans y_pred\n",
    "print('Bonne classification: %d' % (y_test == y_pred).sum())\n",
    "print('Erreurs: %d' % (y_test != y_pred).sum())\n",
    "\n",
    "print ('\\nAccuracy: %.2f\\n' % accuracy_score(y_test, y_pred))\n",
    "\n",
    "t2 = pf() #temps 2\n",
    "\n",
    "print(\"\\nLe temps d'exécution est de : \",t2 - t1,\"secondes\\n\")"
   ]
  },
  {
   "cell_type": "code",
   "execution_count": 14,
   "id": "8fc7e62a",
   "metadata": {},
   "outputs": [
    {
     "name": "stdout",
     "output_type": "stream",
     "text": [
      "Bonne classification: 161\n",
      "Erreurs: 139\n",
      "\n",
      "Accuracy: 0.54\n",
      "\n",
      "\n",
      "Le temps d'exécution est de :  0.024784700013697147 secondes\n",
      "\n"
     ]
    }
   ],
   "source": [
    "#test du classifieur LogisticRegression\n",
    "\n",
    "from sklearn.linear_model import LogisticRegression\n",
    "\n",
    "t1 = pf() #temps 1\n",
    "\n",
    "lr = LogisticRegression(max_iter=1000)  # max_iter pour s'assurer que ça converge\n",
    "lr.fit(X_train, y_train)\n",
    "y_pred_lr = lr.predict(X_test)\n",
    "\n",
    "# On fait la somme de tous les cas où la valeur dans y_test est bien trouvée dans y_pred\n",
    "print('Bonne classification: %d' % (y_test == y_pred).sum())\n",
    "print('Erreurs: %d' % (y_test != y_pred).sum())\n",
    "\n",
    "print ('\\nAccuracy: %.2f\\n' % accuracy_score(y_test, y_pred))\n",
    "\n",
    "t2 = pf() #temps 2\n",
    "\n",
    "print(\"\\nLe temps d'exécution est de : \",t2 - t1,\"secondes\\n\")"
   ]
  },
  {
   "cell_type": "code",
   "execution_count": null,
   "id": "6ddf9751",
   "metadata": {},
   "outputs": [],
   "source": [
    "#test du classifieur SVM\n",
    "\n",
    "from sklearn import svm\n",
    "\n",
    "t1 = pf() #temps 1\n",
    "\n",
    "classification = svm.SVC(kernel=\"linear\")\n",
    "classification.fit(X_train, y_train)\n",
    "y_pred = classification.predict(X_test)\n",
    "\n",
    "# On fait la somme de tous les cas où la valeur dans y_test est bien trouvée dans y_pred\n",
    "print('Bonne classification: %d' % (y_test == y_pred).sum())\n",
    "print('Erreurs: %d' % (y_test != y_pred).sum())\n",
    "\n",
    "print ('\\nAccuracy: %.2f\\n' % accuracy_score(y_test, y_pred))\n",
    "print(\"Resultat de la classification avec tout les caractéristiques en variables explicatives et stress level biosensor en variable cible:\\n\", classification_report(y_test, y_pred))\n",
    "print(\"kappa:\", cohen_kappa_score(y_test,y_pred))\n",
    "t2 = pf() #temps 2\n",
    "\n",
    "print(\"\\nLe temps d'exécution est de : \",t2 - t1,\"secondes\\n\")\n",
    "\n"
   ]
  },
  {
   "cell_type": "markdown",
   "id": "195a30ca-2c86-4b72-9398-e36c03de9ff9",
   "metadata": {},
   "source": [
    "IMPORTANCE DES FEATURES POUR CHAQUE CLASSIFIEURS"
   ]
  },
  {
   "cell_type": "code",
   "execution_count": 26,
   "id": "d8d59087",
   "metadata": {},
   "outputs": [
    {
     "name": "stdout",
     "output_type": "stream",
     "text": [
      "                       feature  importance\n",
      "5     Stress_Level_Self_Report    0.163754\n",
      "18       Health_Risk_Level_Low    0.092645\n",
      "3      Blood_Pressure_Systolic    0.090228\n",
      "2                   Heart_Rate    0.087850\n",
      "4     Blood_Pressure_Diastolic    0.087212\n",
      "0                   Student_ID    0.086099\n",
      "7                Project_Hours    0.085793\n",
      "6                  Study_Hours    0.083017\n",
      "1                          Age    0.047170\n",
      "19  Health_Risk_Level_Moderate    0.037474\n",
      "17      Health_Risk_Level_High    0.027258\n",
      "13          Sleep_Quality_Poor    0.014182\n",
      "11          Sleep_Quality_Good    0.014061\n",
      "10  Physical_Activity_Moderate    0.013032\n",
      "15                Mood_Neutral    0.012783\n",
      "14                  Mood_Happy    0.012720\n",
      "16               Mood_Stressed    0.012431\n",
      "12      Sleep_Quality_Moderate    0.011372\n",
      "9        Physical_Activity_Low    0.011100\n",
      "8       Physical_Activity_High    0.009816\n"
     ]
    }
   ],
   "source": [
    "#importance des features pr random forest\n",
    "encode_text_features = encoder.get_feature_names_out([\"Physical_Activity\", \"Sleep_Quality\", \"Mood\", \"Health_Risk_Level\"]) #????\n",
    "all_features= features_names + list( encoded_textual_features )\n",
    "feature_important= pan.DataFrame({\n",
    "    \"feature\": all_features,\n",
    "    \"importance\":rf.feature_importances_\n",
    "}).sort_values(by=\"importance\", ascending=False)\n",
    "\n",
    "print(feature_important)"
   ]
  },
  {
   "cell_type": "code",
   "execution_count": 28,
   "id": "de6779c1-5179-4260-bbc8-b68a390e2ce8",
   "metadata": {},
   "outputs": [
    {
     "name": "stdout",
     "output_type": "stream",
     "text": [
      "                       feature  importance\n",
      "2                   Heart_Rate   99.243322\n",
      "3      Blood_Pressure_Systolic   99.068059\n",
      "0                   Student_ID   98.900000\n",
      "4     Blood_Pressure_Diastolic   52.051172\n",
      "18       Health_Risk_Level_Low   30.200000\n",
      "5     Stress_Level_Self_Report   21.104388\n",
      "19  Health_Risk_Level_Moderate   19.700000\n",
      "1                          Age   14.600000\n",
      "17      Health_Risk_Level_High   10.800000\n",
      "7                Project_Hours   10.507659\n",
      "10  Physical_Activity_Moderate    9.400000\n",
      "9        Physical_Activity_Low    6.000000\n",
      "8       Physical_Activity_High    3.700000\n",
      "13          Sleep_Quality_Poor    3.100000\n",
      "6                  Study_Hours    3.042643\n",
      "16               Mood_Stressed    2.300000\n",
      "12      Sleep_Quality_Moderate    1.600000\n",
      "11          Sleep_Quality_Good    1.200000\n",
      "14                  Mood_Happy    1.000000\n",
      "15                Mood_Neutral    1.000000\n"
     ]
    }
   ],
   "source": [
    "#importance des features pr perceptron\n",
    "weights = ppn.coef_[0] \n",
    "encoded_textual_features = encoder.get_feature_names_out([\"Physical_Activity\", \"Sleep_Quality\", \"Mood\", \"Health_Risk_Level\"])\n",
    "all_features= features_names + list( encoded_textual_features )\n",
    "feature_important= pan.DataFrame({\n",
    "    \"feature\": all_features,\n",
    "    \"importance\":np.abs(weights)\n",
    "}).sort_values(by=\"importance\", ascending=False)\n",
    "\n",
    "print(feature_important)\n"
   ]
  },
  {
   "cell_type": "code",
   "execution_count": 37,
   "id": "9cb34071-b5c0-478f-b8df-ee58f2309838",
   "metadata": {},
   "outputs": [
    {
     "name": "stdout",
     "output_type": "stream",
     "text": [
      "                       feature  importance\n",
      "18       Health_Risk_Level_Low    2.174315\n",
      "17      Health_Risk_Level_High    1.769461\n",
      "19  Health_Risk_Level_Moderate    0.413063\n",
      "5     Stress_Level_Self_Report    0.278110\n",
      "16               Mood_Stressed    0.198246\n",
      "14                  Mood_Happy    0.182884\n",
      "13          Sleep_Quality_Poor    0.150745\n",
      "11          Sleep_Quality_Good    0.120521\n",
      "8       Physical_Activity_High    0.085164\n",
      "10  Physical_Activity_Moderate    0.082060\n",
      "12      Sleep_Quality_Moderate    0.038432\n",
      "1                          Age    0.028624\n",
      "2                   Heart_Rate    0.016693\n",
      "9        Physical_Activity_Low    0.011313\n",
      "7                Project_Hours    0.010952\n",
      "6                  Study_Hours    0.010069\n",
      "3      Blood_Pressure_Systolic    0.008450\n",
      "4     Blood_Pressure_Diastolic    0.007897\n",
      "15                Mood_Neutral    0.007154\n",
      "0                   Student_ID    0.000201\n"
     ]
    }
   ],
   "source": [
    "#importance des features pr logisticRegression\n",
    "weights = lr.coef_[0] \n",
    "encoded_textual_features = encoder.get_feature_names_out([\"Physical_Activity\", \"Sleep_Quality\", \"Mood\", \"Health_Risk_Level\"])\n",
    "all_features= features_names + list( encoded_textual_features )\n",
    "feature_important= pan.DataFrame({\n",
    "    \"feature\": all_features,\n",
    "    \"importance\": np.abs(weights)\n",
    "}).sort_values(by=\"importance\", ascending=False)\n",
    "\n",
    "print(feature_important)"
   ]
  },
  {
   "cell_type": "code",
   "execution_count": 38,
   "id": "f8b6db9f-10ce-4f7c-855d-e0c5cb88ca91",
   "metadata": {},
   "outputs": [
    {
     "name": "stdout",
     "output_type": "stream",
     "text": [
      "                       feature  importance\n",
      "18       Health_Risk_Level_Low    2.660976\n",
      "17      Health_Risk_Level_High    2.071039\n",
      "19  Health_Risk_Level_Moderate    0.589937\n",
      "5     Stress_Level_Self_Report    0.372844\n",
      "16               Mood_Stressed    0.216203\n",
      "8       Physical_Activity_High    0.204236\n",
      "9        Physical_Activity_Low    0.188676\n",
      "13          Sleep_Quality_Poor    0.168237\n",
      "14                  Mood_Happy    0.122988\n",
      "15                Mood_Neutral    0.093215\n",
      "12      Sleep_Quality_Moderate    0.093070\n",
      "11          Sleep_Quality_Good    0.075166\n",
      "2                   Heart_Rate    0.019352\n",
      "10  Physical_Activity_Moderate    0.015560\n",
      "1                          Age    0.015003\n",
      "6                  Study_Hours    0.012469\n",
      "4     Blood_Pressure_Diastolic    0.005613\n",
      "3      Blood_Pressure_Systolic    0.005133\n",
      "7                Project_Hours    0.001957\n",
      "0                   Student_ID    0.000527\n"
     ]
    }
   ],
   "source": [
    "#importance des features pr SVM\n",
    "weights = classification.coef_[0] \n",
    "encoded_textual_features = encoder.get_feature_names_out([\"Physical_Activity\", \"Sleep_Quality\", \"Mood\", \"Health_Risk_Level\"])\n",
    "all_features= features_names + list( encoded_textual_features )\n",
    "feature_important= pan.DataFrame({\n",
    "    \"feature\": all_features,\n",
    "    \"importance\": np.abs(weights)\n",
    "}).sort_values(by=\"importance\", ascending=False)\n",
    "\n",
    "print(feature_important)"
   ]
  },
  {
   "cell_type": "markdown",
   "id": "71c88aa4-ad6f-4a1c-9131-1693503515bb",
   "metadata": {},
   "source": [
    "TENTATIVE D'AMELIORATION DES RESULTATS OBTENUS AVEC SVM"
   ]
  },
  {
   "cell_type": "code",
   "execution_count": 7,
   "id": "52f307eb-718d-4332-abd9-2ca51c8b7561",
   "metadata": {},
   "outputs": [],
   "source": [
    "\n",
    "\n",
    "y_continu=sante_etudiant[\"Stress_Level_Biosensor\"] \n",
    "\n",
    "\n",
    "#transformation des données textuelle en données num\n",
    "stress_txt= [\"Health_Risk_Level\"]\n",
    "encoder= OneHotEncoder(sparse_output=False) #A VOIR\n",
    "X_encode_stress= encoder.fit_transform(sante_etudiant[stress_txt]) #transformation en numerique\n",
    "\n",
    "y= pan.cut(y_continu, bins=[0,4.5,8.5, float(\"inf\")],labels= [\"faible\",\"moyen\",\"élevée\"]) \n",
    "\n",
    "X_trainSVM, X_testSVM, y_trainSVM, y_testSVM = train_test_split(X_encode_stress, y, test_size=0.3, random_state=0) "
   ]
  },
  {
   "cell_type": "code",
   "execution_count": 11,
   "id": "c498bf80-25d0-4d6f-a76e-d42d63c5130e",
   "metadata": {},
   "outputs": [
    {
     "name": "stdout",
     "output_type": "stream",
     "text": [
      "Bonne classification: 173\n",
      "Erreurs: 127\n",
      "\n",
      "Accuracy: 0.58\n",
      "\n",
      "Resultat de la classification avec Health Risk Level en variable explicative et stress level biosensor en variable cible:\n",
      "               precision    recall  f1-score   support\n",
      "\n",
      "      faible       0.90      0.40      0.55       115\n",
      "       moyen       0.51      0.96      0.67       132\n",
      "      élevée       0.00      0.00      0.00        53\n",
      "\n",
      "    accuracy                           0.58       300\n",
      "   macro avg       0.47      0.45      0.41       300\n",
      "weighted avg       0.57      0.58      0.51       300\n",
      "\n",
      "kappa: 0.2568318801568261\n",
      "\n",
      "Le temps d'exécution est de :  0.22475679987110198 secondes\n",
      "\n"
     ]
    },
    {
     "name": "stderr",
     "output_type": "stream",
     "text": [
      "C:\\Users\\amina\\anaconda3REAL\\Lib\\site-packages\\sklearn\\metrics\\_classification.py:1531: UndefinedMetricWarning: Precision is ill-defined and being set to 0.0 in labels with no predicted samples. Use `zero_division` parameter to control this behavior.\n",
      "  _warn_prf(average, modifier, f\"{metric.capitalize()} is\", len(result))\n",
      "C:\\Users\\amina\\anaconda3REAL\\Lib\\site-packages\\sklearn\\metrics\\_classification.py:1531: UndefinedMetricWarning: Precision is ill-defined and being set to 0.0 in labels with no predicted samples. Use `zero_division` parameter to control this behavior.\n",
      "  _warn_prf(average, modifier, f\"{metric.capitalize()} is\", len(result))\n",
      "C:\\Users\\amina\\anaconda3REAL\\Lib\\site-packages\\sklearn\\metrics\\_classification.py:1531: UndefinedMetricWarning: Precision is ill-defined and being set to 0.0 in labels with no predicted samples. Use `zero_division` parameter to control this behavior.\n",
      "  _warn_prf(average, modifier, f\"{metric.capitalize()} is\", len(result))\n"
     ]
    }
   ],
   "source": [
    "\n",
    "\n",
    "from sklearn import svm\n",
    "\n",
    "t1 = pf() #temps 1\n",
    "\n",
    "classification = svm.SVC(kernel=\"linear\")\n",
    "classification.fit(X_trainSVM, y_trainSVM)\n",
    "y_predSVM = classification.predict(X_testSVM)\n",
    "\n",
    "# On fait la somme de tous les cas où la valeur dans y_test est bien trouvée dans y_pred\n",
    "print('Bonne classification: %d' % (y_testSVM == y_predSVM).sum())\n",
    "print('Erreurs: %d' % (y_testSVM != y_predSVM).sum())\n",
    "\n",
    "print ('\\nAccuracy: %.2f\\n' % accuracy_score(y_testSVM, y_predSVM))\n",
    "print(\"Resultat de la classification avec Health Risk Level en variable explicative et stress level biosensor en variable cible:\\n\", classification_report(y_testSVM, y_predSVM))\n",
    "print(\"kappa:\", cohen_kappa_score(y_testSVM,y_predSVM))\n",
    "t2 = pf() #temps 2\n",
    "\n",
    "print(\"\\nLe temps d'exécution est de : \",t2 - t1,\"secondes\\n\")\n",
    "\n"
   ]
  },
  {
   "cell_type": "markdown",
   "id": "08157260-a23c-434e-9c67-7ca702ab8361",
   "metadata": {},
   "source": [
    "POIDS DES FEATURES"
   ]
  },
  {
   "cell_type": "code",
   "execution_count": 16,
   "id": "e52052c2-0574-42a3-8dc4-d20566caed2a",
   "metadata": {},
   "outputs": [
    {
     "name": "stdout",
     "output_type": "stream",
     "text": [
      "                      feature  importance\n",
      "1       Health_Risk_Level_Low    1.333008\n",
      "0      Health_Risk_Level_High    0.666992\n",
      "2  Health_Risk_Level_Moderate    0.666016\n"
     ]
    }
   ],
   "source": [
    "#importance des features pr SVM\n",
    "weights = classification.coef_[0] \n",
    "encoded_textual_features = encoder.get_feature_names_out([\"Health_Risk_Level\"])\n",
    "all_features= list( encoded_textual_features )\n",
    "feature_important= pan.DataFrame({\n",
    "    \"feature\": all_features,\n",
    "    \"importance\": np.abs(weights)\n",
    "}).sort_values(by=\"importance\", ascending=False)\n",
    "\n",
    "print(feature_important)"
   ]
  },
  {
   "cell_type": "markdown",
   "id": "ce94ca96-6904-432d-a648-635b5698b3d6",
   "metadata": {},
   "source": [
    "TENTATIVE AVEC D'AUTRES FEATURES"
   ]
  },
  {
   "cell_type": "code",
   "execution_count": 3,
   "id": "5bbaa4e0-05bd-4c28-a616-12a0f89ff8e9",
   "metadata": {},
   "outputs": [],
   "source": [
    "\n",
    "features_names= [\"Heart_Rate\",\"Stress_Level_Self_Report\"]\n",
    "X_num= sante_etudiant[features_names] \n",
    "y_continu=sante_etudiant[\"Stress_Level_Biosensor\"] \n",
    "\n",
    "\n",
    "#transformation de y en catégorie distincte\n",
    "y= pan.cut(y_continu, bins=[0,4.5,8.5, float(\"inf\")],labels= [\"faible\",\"moyen\",\"élevée\"]) \n",
    "\n",
    "\n",
    "X_train, X_test, y_train, y_test = train_test_split(X_num, y, test_size=0.3, random_state=0) "
   ]
  },
  {
   "cell_type": "code",
   "execution_count": 12,
   "id": "d1abebe4-d4da-4169-8a70-0eb54c4789b7",
   "metadata": {},
   "outputs": [
    {
     "name": "stdout",
     "output_type": "stream",
     "text": [
      "Bonne classification: 132\n",
      "Erreurs: 168\n",
      "\n",
      "Accuracy: 0.44\n",
      "\n",
      "Resultat de la classification avec Heart Rate et Stress Level Report en variable explicatives et Stress Level Biosensor en variable cible :\n",
      "               precision    recall  f1-score   support\n",
      "\n",
      "      faible       0.00      0.00      0.00       115\n",
      "       moyen       0.44      1.00      0.61       132\n",
      "      élevée       0.00      0.00      0.00        53\n",
      "\n",
      "    accuracy                           0.44       300\n",
      "   macro avg       0.15      0.33      0.20       300\n",
      "weighted avg       0.19      0.44      0.27       300\n",
      "\n",
      "kappa: 0.0\n",
      "\n",
      "Le temps d'exécution est de :  5.042850000085309 secondes\n",
      "\n"
     ]
    },
    {
     "name": "stderr",
     "output_type": "stream",
     "text": [
      "C:\\Users\\amina\\anaconda3REAL\\Lib\\site-packages\\sklearn\\metrics\\_classification.py:1531: UndefinedMetricWarning: Precision is ill-defined and being set to 0.0 in labels with no predicted samples. Use `zero_division` parameter to control this behavior.\n",
      "  _warn_prf(average, modifier, f\"{metric.capitalize()} is\", len(result))\n",
      "C:\\Users\\amina\\anaconda3REAL\\Lib\\site-packages\\sklearn\\metrics\\_classification.py:1531: UndefinedMetricWarning: Precision is ill-defined and being set to 0.0 in labels with no predicted samples. Use `zero_division` parameter to control this behavior.\n",
      "  _warn_prf(average, modifier, f\"{metric.capitalize()} is\", len(result))\n",
      "C:\\Users\\amina\\anaconda3REAL\\Lib\\site-packages\\sklearn\\metrics\\_classification.py:1531: UndefinedMetricWarning: Precision is ill-defined and being set to 0.0 in labels with no predicted samples. Use `zero_division` parameter to control this behavior.\n",
      "  _warn_prf(average, modifier, f\"{metric.capitalize()} is\", len(result))\n"
     ]
    }
   ],
   "source": [
    "from sklearn import svm\n",
    "\n",
    "t1 = pf() #temps 1\n",
    "\n",
    "classification = svm.SVC(kernel=\"linear\")\n",
    "classification.fit(X_train, y_train)\n",
    "y_pred = classification.predict(X_test)\n",
    "\n",
    "# On fait la somme de tous les cas où la valeur dans y_test est bien trouvée dans y_pred\n",
    "print('Bonne classification: %d' % (y_test == y_pred).sum())\n",
    "print('Erreurs: %d' % (y_test != y_pred).sum())\n",
    "\n",
    "print ('\\nAccuracy: %.2f\\n' % accuracy_score(y_test, y_pred))\n",
    "print(\"Resultat de la classification avec Heart Rate et Stress Level Report en variable explicatives et Stress Level Biosensor en variable cible :\\n\", classification_report(y_test, y_pred))\n",
    "print(\"kappa:\", cohen_kappa_score(y_test,y_pred))\n",
    "t2 = pf() #temps 2\n",
    "\n",
    "print(\"\\nLe temps d'exécution est de : \",t2 - t1,\"secondes\\n\")"
   ]
  },
  {
   "cell_type": "code",
   "execution_count": 22,
   "id": "489b6e5e-eae1-44bf-b604-c0ad5ae0fb05",
   "metadata": {},
   "outputs": [
    {
     "name": "stdout",
     "output_type": "stream",
     "text": [
      "                    feature  importance\n",
      "1  Stress_Level_Self_Report    0.000504\n",
      "0                Heart_Rate    0.000478\n"
     ]
    }
   ],
   "source": [
    "#importance des features pr SVM\n",
    "weights = classification.coef_[0] \n",
    "all_features= features_names \n",
    "feature_important= pan.DataFrame({\n",
    "    \"feature\": all_features,\n",
    "    \"importance\": np.abs(weights)\n",
    "}).sort_values(by=\"importance\", ascending=False)\n",
    "\n",
    "print(feature_important)"
   ]
  },
  {
   "cell_type": "markdown",
   "id": "3e65f0e4-686b-4233-9ed8-d539693fa69c",
   "metadata": {},
   "source": [
    "TENTATIVE D'AMELIORATION EN CHANGEANT LES INTERVALLES DE NIVEAUX DE STRESS"
   ]
  },
  {
   "cell_type": "code",
   "execution_count": 14,
   "id": "b6bd792c-b3d8-42fc-8fd7-cee5d0752e91",
   "metadata": {},
   "outputs": [],
   "source": [
    "y_continu=sante_etudiant[\"Stress_Level_Biosensor\"] \n",
    "\n",
    "\n",
    "#transformation des données textuelle en données num\n",
    "stress_txt= [\"Health_Risk_Level\"]\n",
    "encoder= OneHotEncoder(sparse_output=False) #A VOIR\n",
    "X_encode_stress1= encoder.fit_transform(sante_etudiant[stress_txt]) #transformation en numerique\n",
    "\n",
    "y2= pan.cut(y_continu, bins=[0,4.5,10,float(\"inf\")],labels= [\"faible_\",\"élevée_\",\"inconnu\"],right=False) \n",
    "\n",
    "X_trainSVM1, X_testSVM1, y_trainSVM1, y_testSVM1 = train_test_split(X_encode_stress1, y2, test_size=0.3, random_state=0) "
   ]
  },
  {
   "cell_type": "code",
   "execution_count": 17,
   "id": "70ce9049-7392-41b2-97e8-f4cf8e0287de",
   "metadata": {},
   "outputs": [
    {
     "name": "stdout",
     "output_type": "stream",
     "text": [
      "Bonne classification: 226\n",
      "Erreurs: 74\n",
      "\n",
      "Accuracy: 0.75\n",
      "\n",
      "Resultat de la classification après modification des niveaux de stress(variable explicative:Health Risk Level, variable cible: Stress Level Biosensor) :\n",
      "               precision    recall  f1-score   support\n",
      "\n",
      "     faible_       0.90      0.40      0.55       115\n",
      "     élevée_       0.72      0.97      0.83       185\n",
      "\n",
      "    accuracy                           0.75       300\n",
      "   macro avg       0.81      0.69      0.69       300\n",
      "weighted avg       0.79      0.75      0.72       300\n",
      "\n",
      "kappa: 0.41686367218282117\n",
      "\n",
      "Le temps d'exécution est de :  0.20468849991448224 secondes\n",
      "\n"
     ]
    }
   ],
   "source": [
    "\n",
    "\n",
    "from sklearn import svm\n",
    "\n",
    "t1 = pf() #temps 1\n",
    "\n",
    "classification = svm.SVC(kernel=\"linear\")\n",
    "classification.fit(X_trainSVM1, y_trainSVM1)\n",
    "y_predSVM1 = classification.predict(X_testSVM1)\n",
    "\n",
    "# On fait la somme de tous les cas où la valeur dans y_test est bien trouvée dans y_pred\n",
    "print('Bonne classification: %d' % (y_testSVM1 == y_predSVM1).sum())\n",
    "print('Erreurs: %d' % (y_testSVM1 != y_predSVM1).sum())\n",
    "\n",
    "print ('\\nAccuracy: %.2f\\n' % accuracy_score(y_testSVM1, y_predSVM1))\n",
    "print(\"Resultat de la classification après modification des niveaux de stress(variable explicative:Health Risk Level, variable cible: Stress Level Biosensor) :\\n\", classification_report(y_testSVM1, y_predSVM1))\n",
    "print(\"kappa:\", cohen_kappa_score(y_testSVM1,y_predSVM1))\n",
    "t2 = pf() #temps 2\n",
    "\n",
    "print(\"\\nLe temps d'exécution est de : \",t2 - t1,\"secondes\\n\")\n",
    "\n"
   ]
  },
  {
   "cell_type": "markdown",
   "id": "da0210fc-9371-4415-b221-ef7ca1fb3637",
   "metadata": {},
   "source": [
    "Représentation graphique de nos niveaux de stress après changement"
   ]
  },
  {
   "cell_type": "code",
   "execution_count": 19,
   "id": "4e7cdfd3-7a72-402b-80ae-40c24a8cc493",
   "metadata": {},
   "outputs": [
    {
     "data": {
      "image/png": "[encoded data removed]",
      "text/plain": [
       "<Figure size 640x480 with 1 Axes>"
      ]
     },
     "metadata": {},
     "output_type": "display_data"
    }
   ],
   "source": [
    "faible= 0\n",
    "eleve= 0\n",
    "inconnu=0\n",
    "valeur=[]\n",
    "pourcentage=[]\n",
    "for elt in y2:\n",
    "    if elt == \"faible_\":\n",
    "       faible+=1\n",
    "    if elt== \"élevée_\":\n",
    "        eleve+=1\n",
    "    if elt== \"inconnu\":\n",
    "        inconnu+=1\n",
    "\n",
    "valeur.extend([396,604]) #somme de chaque niveau de stress\n",
    "\n",
    "#calcul de pourcentage pour chaque niveau de stress\n",
    "for val in valeur:\n",
    "    pourcent= (val*100)/sum(valeur)\n",
    "    pourcentage.append(pourcent)\n",
    "#print(pourcentage)\n",
    "\n",
    "label= [\"faible\",\"élevée\"]\n",
    "color= [\"blue\",\"green\"]\n",
    "explode= (0,0.1)\n",
    "\n",
    "plt.pie(pourcentage, labels= label, colors=color, explode=explode, autopct=\"%1.1f%%\")\n",
    "plt.title(\"répartition des niveaux de stress mesuré par un capteur\")\n",
    "plt.axis(\"equal\")\n",
    "plt.savefig(\"pie_chartLevelStress2\")\n",
    "plt.show()"
   ]
  },
  {
   "cell_type": "code",
   "execution_count": null,
   "id": "161b5511-3854-4f6c-b982-200a5bbdd8c8",
   "metadata": {},
   "outputs": [],
   "source": []
  }
 ],
 "metadata": {
  "kernelspec": {
   "display_name": "Python 3 (ipykernel)",
   "language": "python",
   "name": "python3"
  },
  "language_info": {
   "codemirror_mode": {
    "name": "ipython",
    "version": 3
   },
   "file_extension": ".py",
   "mimetype": "text/x-python",
   "name": "python",
   "nbconvert_exporter": "python",
   "pygments_lexer": "ipython3",
   "version": "3.11.10"
  }
 },
 "nbformat": 4,
 "nbformat_minor": 5
}
